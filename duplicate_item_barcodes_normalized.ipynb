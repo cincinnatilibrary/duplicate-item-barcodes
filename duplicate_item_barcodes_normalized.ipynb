{
 "cells": [
  {
   "cell_type": "code",
   "execution_count": 1,
   "id": "d83d1f73",
   "metadata": {
    "execution": {
     "iopub.execute_input": "2023-11-15T22:48:32.397082Z",
     "iopub.status.busy": "2023-11-15T22:48:32.395669Z",
     "iopub.status.idle": "2023-11-15T22:48:32.401950Z",
     "shell.execute_reply": "2023-11-15T22:48:32.401295Z"
    }
   },
   "outputs": [],
   "source": [
    "# %%capture\n",
    "# !python -m pip install -U jinja2\n",
    "# !python -m pip install -U psycopg2-binary\n",
    "\n",
    "# !python -m pip freeze > requirements.txt"
   ]
  },
  {
   "cell_type": "code",
   "execution_count": 2,
   "id": "00737612",
   "metadata": {
    "execution": {
     "iopub.execute_input": "2023-11-15T22:48:32.405569Z",
     "iopub.status.busy": "2023-11-15T22:48:32.404970Z",
     "iopub.status.idle": "2023-11-15T22:48:32.419185Z",
     "shell.execute_reply": "2023-11-15T22:48:32.418324Z"
    }
   },
   "outputs": [],
   "source": [
    "import subprocess\n",
    "\n",
    "def get_latest_commit():\n",
    "\n",
    "    repo_url = \"https://github.com/cincinnatilibrary/duplicate-item-barcodes\"\n",
    "    commit_url = \"{repo_url}/commit/{commit_hash}\"\n",
    "    try:\n",
    "        # Run the git command to get the latest commit hash\n",
    "        commit_hash = subprocess.check_output([\"git\", \"rev-parse\", \"HEAD\"]).strip().decode()\n",
    "        # return commit_hash\n",
    "        return commit_url.format(repo_url=repo_url, commit_hash=commit_hash)\n",
    "    except subprocess.CalledProcessError as e:\n",
    "        # print(\"Error fetching the latest commit hash:\", e)\n",
    "        return repo_url\n",
    "    \n",
    "version = get_latest_commit()"
   ]
  },
  {
   "cell_type": "code",
   "execution_count": 3,
   "id": "b556a03a-1366-4310-b1b3-a300b3c1c62f",
   "metadata": {
    "execution": {
     "iopub.execute_input": "2023-11-15T22:48:32.422343Z",
     "iopub.status.busy": "2023-11-15T22:48:32.421769Z",
     "iopub.status.idle": "2023-11-15T22:48:32.465166Z",
     "shell.execute_reply": "2023-11-15T22:48:32.464706Z"
    },
    "tags": []
   },
   "outputs": [],
   "source": [
    "import json\n",
    "import csv\n",
    "from datetime import datetime, timedelta\n",
    "import os\n",
    "\n",
    "from sierra_db import execute_query_yield_rows, get_cursor\n",
    "from chpl_email import send_email\n",
    "\n",
    "from jinja2 import Environment, FileSystemLoader\n",
    "\n",
    "# Set up the Jinja2 environment and load the template\n",
    "env = Environment(loader=FileSystemLoader('.'))\n",
    "template = env.get_template('template.html')\n",
    "\n",
    "try:\n",
    "    with open('config.json') as f:\n",
    "        config = json.load(f)\n",
    "        dsn = config['dsn']\n",
    "except Exception as e:\n",
    "    print(e)\n",
    "    \n",
    "directory = \"./output\"\n",
    "\n",
    "# Check if the directory exists\n",
    "if not os.path.exists(directory):\n",
    "    # If the directory doesn't exist, create it\n",
    "    os.makedirs(directory)\n",
    "    \n",
    "# Get the current date and format it as a string\n",
    "date_str = datetime.now().strftime(\"%Y-%m-%d\")\n",
    "\n",
    "# Now you can use this directory to save your file\n",
    "filename = f\"duplicate-item-barcodes_{date_str}.csv\"\n",
    "filepath = os.path.join(directory, filename)"
   ]
  },
  {
   "cell_type": "code",
   "execution_count": 4,
   "id": "051e670c",
   "metadata": {
    "execution": {
     "iopub.execute_input": "2023-11-15T22:48:32.470704Z",
     "iopub.status.busy": "2023-11-15T22:48:32.469950Z",
     "iopub.status.idle": "2023-11-15T22:48:32.476524Z",
     "shell.execute_reply": "2023-11-15T22:48:32.476085Z"
    }
   },
   "outputs": [
    {
     "data": {
      "text/plain": [
       "['ray.voelker@chpl.org', 'ray.voelker@gmail.com']"
      ]
     },
     "execution_count": 4,
     "metadata": {},
     "output_type": "execute_result"
    }
   ],
   "source": [
    "config.get('send_list')"
   ]
  },
  {
   "cell_type": "code",
   "execution_count": 5,
   "id": "8effa854-76bc-4387-8fb0-003e6928767d",
   "metadata": {
    "execution": {
     "iopub.execute_input": "2023-11-15T22:48:32.482718Z",
     "iopub.status.busy": "2023-11-15T22:48:32.482239Z",
     "iopub.status.idle": "2023-11-15T22:48:58.671425Z",
     "shell.execute_reply": "2023-11-15T22:48:58.670298Z"
    }
   },
   "outputs": [
    {
     "name": "stdout",
     "output_type": "stream",
     "text": [
      "..done (100)\n"
     ]
    }
   ],
   "source": [
    "# sql = \"\"\"\\\n",
    "# select \n",
    "#     v.field_content as barcode,\n",
    "#     json_agg(rm.record_type_code || rm.record_num || 'a') as item_record_id_array \n",
    "# from \n",
    "#     sierra_view.varfield v \n",
    "#     join sierra_view.record_metadata rm on (\n",
    "#         rm.id = v.record_id\n",
    "#         and rm.record_type_code = 'i'\n",
    "#         and rm.campus_code = ''\n",
    "#     )\n",
    "# where \n",
    "#     v.varfield_type_code = 'b'     -- barcode\n",
    "# group by \n",
    "#     barcode\n",
    "# having\n",
    "#     count(distinct rm.id) > 1\n",
    "# \"\"\"\n",
    "\n",
    "sql = \"\"\"\\\n",
    "with dupe_barcode as (\n",
    "\tselect\n",
    "\t\tv.field_content as barcode,\n",
    "\t\tdate(max(rm.creation_date_gmt)) as latest_create_date\n",
    "\tfrom \n",
    "\t\tsierra_view.varfield as v\n",
    "\t\tjoin sierra_view.record_metadata rm  on (\n",
    "\t\t\trm.id = v.record_id\n",
    "\t        and rm.record_type_code = 'i'\n",
    "\t        and rm.campus_code = ''\n",
    "\t\t)\n",
    "\twhere \n",
    "\t\tv.varfield_type_code = 'b'  -- barcode\n",
    "\tgroup by \n",
    "\t\tv.field_content\n",
    "\thaving\n",
    "\t\tcount(v.field_content) > 1\n",
    ")\n",
    "select\n",
    "\tdense_rank() over (order by db.latest_create_date desc, db.barcode) as barcode_group_num,\n",
    "\tdb.barcode,\n",
    "\trmi.record_type_code || rmi.record_num || 'a' as item_record_num,\n",
    "\tir.icode1,\n",
    "\tir.itype_code_num,\n",
    "\tbrp.best_title as title,\n",
    "\tdate(rmi.creation_date_gmt) item_created,\n",
    "\tdate(rmi.record_last_updated_gmt) as item_updated \n",
    "from\n",
    "\tdupe_barcode as db\n",
    "\tleft outer join sierra_view.phrase_entry as pe on (\n",
    "\t\tpe.index_tag || pe.index_entry = 'b' || lower(db.barcode)\n",
    "\t\tor pe.index_tag || pe.index_entry = 'b' || db.barcode\n",
    "\t)\n",
    "\tleft outer join sierra_view.item_record as ir on\n",
    "\t\tir.record_id = pe.record_id\n",
    "\tleft outer join sierra_view.record_metadata rmi on\n",
    "\t\trmi.id = ir.record_id\n",
    "\tleft outer join sierra_view.bib_record_item_record_link as brirl on\n",
    "\t\tbrirl.item_record_id = ir.record_id\n",
    "\tleft outer join sierra_view.bib_record_property as brp on\n",
    "\t\tbrp.bib_record_id = brirl.bib_record_id\n",
    "order by\n",
    "\tdb.latest_create_date desc,\n",
    "\tdb.barcode\n",
    "\"\"\"\n",
    "\n",
    "with get_cursor(dsn=dsn) as cursor:\n",
    "    rows = execute_query_yield_rows(cursor, sql, None)\n",
    "    columns = next(rows)\n",
    "\n",
    "    with open(filepath, 'w') as f:\n",
    "        writer = csv.writer(f)    \n",
    "        writer.writerow(columns)\n",
    "        \n",
    "        # Initialize an empty list to store the data for the template\n",
    "        data = []\n",
    "        \n",
    "        for i, row in enumerate(rows):\n",
    "            writer.writerow(row)\n",
    "            \n",
    "            # Add this row's data to the list for the template\n",
    "            data.append(dict(zip(columns, row)))\n",
    "            \n",
    "            if i % 100 == 0:\n",
    "                print('.', end='')\n",
    "        print(f'.done ({i+1})')"
   ]
  },
  {
   "cell_type": "code",
   "execution_count": 6,
   "id": "e63c6a83-3959-4ddd-8d20-1e6f6ba4ddc3",
   "metadata": {
    "execution": {
     "iopub.execute_input": "2023-11-15T22:48:58.677008Z",
     "iopub.status.busy": "2023-11-15T22:48:58.675867Z",
     "iopub.status.idle": "2023-11-15T22:48:58.683482Z",
     "shell.execute_reply": "2023-11-15T22:48:58.682342Z"
    },
    "tags": []
   },
   "outputs": [],
   "source": [
    "# Render the template with the data\n",
    "html = template.render(results=data, version=version)\n",
    "\n",
    "# Now you can use the HTML string however you like, e.g., write it to a file or send it in an email\n",
    "with open('report.html', 'w') as f:\n",
    "    f.write(html)\n",
    "\n",
    "# html = template.render(results=data)"
   ]
  },
  {
   "cell_type": "code",
   "execution_count": 7,
   "id": "2602ad72-bafa-409d-aabf-9e72d8c84982",
   "metadata": {
    "execution": {
     "iopub.execute_input": "2023-11-15T22:48:58.685977Z",
     "iopub.status.busy": "2023-11-15T22:48:58.685598Z",
     "iopub.status.idle": "2023-11-15T22:48:58.908573Z",
     "shell.execute_reply": "2023-11-15T22:48:58.907089Z"
    },
    "tags": []
   },
   "outputs": [],
   "source": [
    "send_email(\n",
    "    smtp_username=config['smtp_username'], \n",
    "    smtp_password=config['smtp_password'], \n",
    "    subject=\"Duplicate Barcode for Item Records Report\", \n",
    "    message=\"See attached.\",\n",
    "    html=html,\n",
    "    from_addr=\"ray.voelker@chpl.org\", \n",
    "    to_addr=config['send_list'], \n",
    "    files=[filepath, 'report.html']\n",
    ")"
   ]
  }
 ],
 "metadata": {
  "kernelspec": {
   "display_name": "Python 3 (ipykernel)",
   "language": "python",
   "name": "python3"
  },
  "language_info": {
   "codemirror_mode": {
    "name": "ipython",
    "version": 3
   },
   "file_extension": ".py",
   "mimetype": "text/x-python",
   "name": "python",
   "nbconvert_exporter": "python",
   "pygments_lexer": "ipython3",
   "version": "3.9.2"
  }
 },
 "nbformat": 4,
 "nbformat_minor": 5
}
